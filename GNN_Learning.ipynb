{
  "nbformat": 4,
  "nbformat_minor": 0,
  "metadata": {
    "colab": {
      "name": "GNN-Learning.ipynb",
      "provenance": [],
      "collapsed_sections": [
        "bi_-c32G5szR",
        "_70VRmDK09s9",
        "e9JtxCNF07e6",
        "x2TaMHfk0xO_",
        "xPJXVUZK04lb",
        "M9cEBMlKbFOn",
        "H3gUkzbxcBhJ",
        "cnxV4Dw41MRB",
        "4R9QZVey1QnB",
        "gIVg2F0An12_",
        "PhOcK0rG1gBM",
        "WcEZp7iw188r",
        "Y0VBY6dE6-c5",
        "lPvKO_Am9OwN",
        "4Ut2BRnOGWiE",
        "rA1gZHMIGkH3",
        "YhxsvgUIGmyn",
        "PyyutGK9RVcp",
        "GgF5lVPYcx_R",
        "X6KGcU0g1rnI",
        "Sfj0Lk8hvC4o",
        "bFekpTOVvJ0C",
        "tbHNMMUlworz",
        "y2C1WkqM2NCu",
        "VQQRtIkIn9jL"
      ],
      "toc_visible": true,
      "authorship_tag": "ABX9TyMaHawluhV6vMsXYU0vtJbm",
      "include_colab_link": true
    },
    "kernelspec": {
      "name": "python3",
      "display_name": "Python 3"
    },
    "language_info": {
      "name": "python"
    }
  },
  "cells": [
    {
      "cell_type": "markdown",
      "metadata": {
        "id": "view-in-github",
        "colab_type": "text"
      },
      "source": [
        "<a href=\"https://colab.research.google.com/github/njulhy/python_knowledge_summary/blob/main/GNN_Learning.ipynb\" target=\"_parent\"><img src=\"https://colab.research.google.com/assets/colab-badge.svg\" alt=\"Open In Colab\"/></a>"
      ]
    },
    {
      "cell_type": "markdown",
      "metadata": {
        "id": "24gysSkh09i2"
      },
      "source": [
        "# GNN介绍\n"
      ]
    },
    {
      "cell_type": "markdown",
      "metadata": {
        "id": "9ZEr7MzSL5-6"
      },
      "source": [
        "<table>\n",
        "<tr><td><img src=\"https://img-blog.csdnimg.cn/20210617213540144.png\"><td><img src=\"https://img-blog.csdnimg.cn/20210617213815492.png\">\n",
        "</table>\n",
        "\n",
        "\n",
        "传统机器学习：hand-designed features + ML model\n",
        "\n",
        "GNN: 使用NN (Neural Network) 进行Embedding（特征提取）。"
      ]
    },
    {
      "cell_type": "markdown",
      "metadata": {
        "id": "bi_-c32G5szR"
      },
      "source": [
        "## Hand-Designed Features"
      ]
    },
    {
      "cell_type": "markdown",
      "metadata": {
        "id": "GypXfhMOa87X"
      },
      "source": [
        "### Node-level Features\n",
        "1. Node degree\n",
        "2. Node centrality\n",
        "   - Engienvector centrality\n",
        "   - Betweenness centrality\n",
        "   - Closeness centrality\n",
        "   - others\n",
        "3. Clustering coefficient\n",
        "4. Graphlets\n",
        "\n",
        "其中1、2为Imporance-based features，可以用于判断graph某节点的影响力/重要性；1、3、4为Structure-based features，可以用于判断节点在graph中扮演的角色"
      ]
    },
    {
      "cell_type": "markdown",
      "metadata": {
        "id": "QgtQRV8_1BJp"
      },
      "source": [
        "#### Engienvector centrality"
      ]
    },
    {
      "cell_type": "markdown",
      "metadata": {
        "id": "XMn0dXpNMhfA"
      },
      "source": [
        "\n",
        "centrality为特征矢量\n",
        "$$c_v=\\frac{1}{\\lambda}\\sum_{u\\in N(v)}c_u\\Leftrightarrow\\lambda\\mathbf{c}=\\mathbf{A}\\mathbf{c}$$"
      ]
    },
    {
      "cell_type": "markdown",
      "metadata": {
        "id": "_70VRmDK09s9"
      },
      "source": [
        "#### Betweenness centrality"
      ]
    },
    {
      "cell_type": "markdown",
      "metadata": {
        "id": "sszPn7Qg0pj0"
      },
      "source": [
        "\n",
        "有多条最短路径经过的节点更重要\n",
        "$$c_v=\\sum_{s\\neq v\\neq t}\\frac{\\text{shortest paths between s and t that contain v}}{\\text{shortest paths between s and t}}$$\n",
        "<img src=\"https://img-blog.csdnimg.cn/20210617221744423.png\" width=50%>"
      ]
    },
    {
      "cell_type": "markdown",
      "metadata": {
        "id": "e9JtxCNF07e6"
      },
      "source": [
        "#### Closeness centrality"
      ]
    },
    {
      "cell_type": "markdown",
      "metadata": {
        "id": "3ENFmWXN0sWB"
      },
      "source": [
        "\n",
        "到达其他所有节点的最短路径<b>之和更短的节点</b>更重要\n",
        "$$c_v=\\frac{1}{\\sum_{u\\neq v}\\text{shortest path between u and v}}$$\n",
        "<img src=\"https://img-blog.csdnimg.cn/20210617221524571.png\"  width=50%>"
      ]
    },
    {
      "cell_type": "markdown",
      "metadata": {
        "id": "x2TaMHfk0xO_"
      },
      "source": [
        "#### Clustering Coefficient"
      ]
    },
    {
      "cell_type": "markdown",
      "metadata": {
        "id": "JLq9J0by00nz"
      },
      "source": [
        "此特征考量node的neighbor连接情况\n",
        "$$e_v=\\frac{\\text{edges among neighboring nodes}}{(_2^{k_v})}\\in[0,1]$$\n",
        "<img src=\"https://img-blog.csdnimg.cn/20210617222209841.png\"  width=50%>"
      ]
    },
    {
      "cell_type": "markdown",
      "metadata": {
        "id": "xPJXVUZK04lb"
      },
      "source": [
        "\n",
        "#### Graphlets"
      ]
    },
    {
      "cell_type": "markdown",
      "metadata": {
        "id": "wJMiU0Mp03YF"
      },
      "source": [
        "\n",
        "<img src=\"https://img-blog.csdnimg.cn/20210617223601793.png\"  width=50%>"
      ]
    },
    {
      "cell_type": "markdown",
      "metadata": {
        "id": "M9cEBMlKbFOn"
      },
      "source": [
        "### Link-level Features\n",
        "在link-level prediction task中，需要根据已有的edge来预测新的edge。关键点在于如何设计node pair的特征 (edge存在于node pairs)\n",
        "1. Distance-based feature\n",
        "2. Local neighborhood overlap\n",
        "2. Global neighborhood overlap"
      ]
    },
    {
      "cell_type": "markdown",
      "metadata": {
        "id": "H3gUkzbxcBhJ"
      },
      "source": [
        "#### Distance-Based Features"
      ]
    },
    {
      "cell_type": "markdown",
      "metadata": {
        "id": "_2B6sgPk1J5f"
      },
      "source": [
        "\n",
        "两个节点之间的最短距离，该特征无法体现一些结构特征，如the degree of neighborhood overlap.\n",
        "<img src=\"https://img-blog.csdnimg.cn/20210617230647447.png\" width=50%>"
      ]
    },
    {
      "cell_type": "markdown",
      "metadata": {
        "id": "cnxV4Dw41MRB"
      },
      "source": [
        "\n",
        "#### Local neighborhood overlap"
      ]
    },
    {
      "cell_type": "markdown",
      "metadata": {
        "id": "TjYvOz7D1O8d"
      },
      "source": [
        "\n",
        "表征两节点的公共节点，该特征对于无公共节点的node pair恒为0.\n",
        "\n",
        "<img src=\"https://img-blog.csdnimg.cn/20210617231049898.png\" width=50%>"
      ]
    },
    {
      "cell_type": "markdown",
      "metadata": {
        "id": "4R9QZVey1QnB"
      },
      "source": [
        "\n",
        "#### Global Neighborhood Overlap"
      ]
    },
    {
      "cell_type": "markdown",
      "metadata": {
        "id": "HbCFzfl91SnV"
      },
      "source": [
        "\n",
        "Katz index: $$S_{v_1,v_2}=\\sum^{\\infty}_{l=1}\\beta^l\\mathbf{A}^l_{v_1,v_2}=(\\mathbf{I}=\\beta\\mathbf{A})^{-1}-\\mathbf{I}$$\n",
        "需要对node pair中特定长度的路径计数。Trick在于使用adjcency矩阵来计数——$\\mathbf{A}_{uv}^i$的值即为u和v之间长度为i的路径数量。"
      ]
    },
    {
      "cell_type": "markdown",
      "metadata": {
        "id": "bnrQaoRZl3dg"
      },
      "source": [
        "### Graph-Level Features and Graph Kernels\n",
        "在传统机器学习方法中，Kernel方法被广泛应用于graph-level的任务中。\n",
        "许多Kernel被提出：\n",
        "- Graphlet Kernel\n",
        "- Weisfeiler-Lehman Kernel\n",
        "- Random-walk kernel\n",
        "- Shortest-path graph kernel\n",
        "- others\n",
        "\n",
        "如果只考虑节点数量，那么会发生下面的状况：<br>\n",
        "<img src=\"https://img-blog.csdnimg.cn/20210617233844423.png\" width=50%>\n",
        "<br>\n",
        "解决途径之一是使用Bag-of-*类型方法。如上面的例子考虑Bag of node degree，则左侧特征为[1,2,1]，而右侧特征为[0,2,2]，两个graph得以区分"
      ]
    },
    {
      "cell_type": "markdown",
      "metadata": {
        "id": "gIVg2F0An12_"
      },
      "source": [
        "#### Graphlet Features"
      ]
    },
    {
      "cell_type": "markdown",
      "metadata": {
        "id": "jORXgHAg1eKf"
      },
      "source": [
        "\n",
        "对graph中不同的graphlets进行计数得到特征。在node-level中，graphlet中的node相互连接并且必须包含期望node；在graph-level中，graphlet略有不同，具体如下图：\n",
        "\n",
        "<table>\n",
        "<th>$g_k$<th>$f_G$\n",
        "<tr><td><img src=\"https://img-blog.csdnimg.cn/20210617234739928.png\"><td>\n",
        "<img src=\"https://img-blog.csdnimg.cn/20210617234916463.png\">\n",
        "</table>\n",
        "\n",
        "graphlet kernel:\n",
        "$$K(G,G')=f_G^Tf_{G'}$$\n",
        "问题：如果G和G'具有不同的size，那么$f_G$和$f_{G'}$必须标准化，标准化后计算公式为：\n",
        "$$K(G,G')=h_G^Th_{G'},h_G=\\frac{f_G}{Sum(f_G)}$$"
      ]
    },
    {
      "cell_type": "markdown",
      "metadata": {
        "id": "PhOcK0rG1gBM"
      },
      "source": [
        "\n",
        "#### Weisfeiler-Lehman Kernel"
      ]
    },
    {
      "cell_type": "markdown",
      "metadata": {
        "id": "rDoUZXmm1iH1"
      },
      "source": [
        "\n",
        "Graphlet Feature的问题\n",
        "1. 对size-k的graphlet进行计数非常艰难，随着graph的规模n增长，需要进行的计数与$n^k$成正比\n",
        "2. This is unavoidable in the worst-case since subgraph isomorphism test (judging whether a graph is a subgraph of another graph) is NP-hard.\n",
        "3. If a graph's node degree is bounded by d, an O(nd^{k-1}) algorithm exists to count all the graphlets of size k.\n",
        "\n",
        "\n",
        "<table>\n",
        "<th colspan=\"3\">Color Refinement\n",
        "<tr><td><img src=\"https://img-blog.csdnimg.cn/20210618001707240.png\"><td><img src=\"https://img-blog.csdnimg.cn/20210618003255787.png\"><td>\n",
        "<img src=\"https://img-blog.csdnimg.cn/20210618002232629.png\">\n",
        "</table>\n",
        "\n",
        "$$K(G_1,G_2)=\\phi(G_1)^T\\phi(G_2)$$"
      ]
    },
    {
      "cell_type": "markdown",
      "metadata": {
        "id": "WcEZp7iw188r"
      },
      "source": [
        "## Embedding\n",
        "可以理解为特征提取"
      ]
    },
    {
      "cell_type": "markdown",
      "metadata": {
        "id": "YNAmHxUE2DpN"
      },
      "source": [
        "<table>\n",
        "<tr><td>\n",
        "<img src=\"https://img-blog.csdnimg.cn/20210618004036779.png\">\n",
        "<td><img src=\"https://img-blog.csdnimg.cn/20210618004226831.png\">\n",
        "</table>"
      ]
    },
    {
      "cell_type": "markdown",
      "metadata": {
        "id": "KMve14RC3KLx"
      },
      "source": [
        "### Encoder"
      ]
    },
    {
      "cell_type": "markdown",
      "metadata": {
        "id": "olyulCPJ3M-o"
      },
      "source": [
        "Encoder将node映射到embedding space，即将node嵌入为一个低维向量。嵌入后需要保持原网络的结构相似性。\n",
        "<table>\n",
        "<tr><td>encoder<td>simplest encoder<td>decoder\n",
        "<tr><td><img src=\"https://img-blog.csdnimg.cn/20210618004531313.png\"><td><img src=\"https://img-blog.csdnimg.cn/20210618004837989.png\"><td><img src=\"https://img-blog.csdnimg.cn/202106180117443.png\">\n",
        "</table>"
      ]
    },
    {
      "cell_type": "markdown",
      "metadata": {
        "id": "2RStVuyk4shn"
      },
      "source": [
        "#### Shallow Encoding\n"
      ]
    },
    {
      "cell_type": "markdown",
      "metadata": {
        "id": "gxdc4msU5f5e"
      },
      "source": [
        "直接将每个node映射为一个嵌入向量 (embedding vector)，有许多提出的方法，包括<b>DeepWalk, node2vec</b>\n",
        "<br>\n",
        "此种方法的关键在于如何衡量Node Similarity。<br>DeepWalk和node2vec都使用<b>random walk</b>来衡量node similarity"
      ]
    },
    {
      "cell_type": "markdown",
      "metadata": {
        "id": "hzc7Ni7P9DVC"
      },
      "source": [
        "#### Embedding Entire Graphs"
      ]
    },
    {
      "cell_type": "markdown",
      "metadata": {
        "id": "PZbxdCQY9KNg"
      },
      "source": [
        "<table>\n",
        "<th>目标<th>方法\n",
        "<tr><td rowspan=\"3\"><img src=\"https://img-blog.csdnimg.cn/20210618011144540.png\"  width=600px><td><img src=\"https://img-blog.csdnimg.cn/20210618011327478.png\" width=400px><tr><td><img src=\"https://img-blog.csdnimg.cn/20210618011411592.png\" width=400px><tr><td><img src=\"https://img-blog.csdnimg.cn/20210618011507265.png\" width=400px>"
      ]
    },
    {
      "cell_type": "markdown",
      "metadata": {
        "id": "9j3IOXm_1Nta"
      },
      "source": [
        "## 何为GNN？GNN能做什么？"
      ]
    },
    {
      "cell_type": "markdown",
      "metadata": {
        "id": "Y0VBY6dE6-c5"
      },
      "source": [
        "### 什么是GNN"
      ]
    },
    {
      "cell_type": "markdown",
      "metadata": {
        "id": "SWFdeAOy6QQv"
      },
      "source": [
        "简单来说，GNN是使用NN (Neural Network) 做Embedding。\n",
        "\n",
        "$ENC(v)$ =multiple layers of non-linear transformations based on graph\n",
        "<img src=\"https://img-blog.csdnimg.cn/20210617202100452.png\">"
      ]
    },
    {
      "cell_type": "markdown",
      "metadata": {
        "id": "lPvKO_Am9OwN"
      },
      "source": [
        "### GNN能做什么"
      ]
    },
    {
      "cell_type": "markdown",
      "metadata": {
        "id": "wosoIy_S7CKg"
      },
      "source": [
        "1. Node-level：可以直接使用节点嵌入来预测节点分类——可以直接将GNN的输出映射到类别 (回归任务也适用)\n",
        "   >$\\hat{y}_v=Head_{node}(\\mathbf{h}_v^{(L)})=\\mathbf{W}^{(H)}\\mathbf{h}_v^{(L)}$<br>$\\mathbf{W}^{(H)}\\in\\mathbb{R}^{k*d},\\mathbf{h}_v^{(L)}\\in\\mathbb{R}^d$\n",
        "   \n",
        "   <img src=\"https://img-blog.csdnimg.cn/20210617202849287.png\"  width=50%>\n",
        "2. Edge-level：使用节点对的嵌入来预测$\\hat{y}_{uv}=Head_{edge}(\\mathbf{h}_u^{(L)},\\mathbf{h}_v^{(L)})$\n",
        "   >1. 拼接+线性变换<br>\n",
        "   $\\hat{y}_{uv}=Linear(Concat(\\mathbf{h}_u^{(L)},\\mathbf{h}_v^{(L)}))$\n",
        "   2. 内积<br>\n",
        "   $\\hat{y}_{uv}^{(i)}=(\\mathbf{h}_u^{(L)})^T\\mathbf{W}^{(i)}\\mathbf{h}_v^{(L)}, i\\in[1,\\dots,k]$\n",
        "   $\\hat{y}_{uv}=Concat(\\hat{y}_{uv}^{(1)},\\dots,\\hat{y}_{uv}^{(k)})$\n",
        "\n",
        "   <img src=\"https://img-blog.csdnimg.cn/20210617203006878.png\"  width=50%>\n",
        "3. Graph-level: Community detection & Network similarity使用图中所有节点的嵌入做预测\n",
        "   >$\\hat{y}_G=Head_{graph}(\\{\\mathbf{h}_v^{(L)}\\in\\mathbb{R}^d,\\forall v\\in G\\})$<br>如使用简单的均值/最大值/求和pooling。<br>简单的pooling会丢失很多信息，可以使用DiffPool，如Heerarchically pool<img src=\"https://img-blog.csdnimg.cn/20210617212140251.png\"  width=50%>\n"
      ]
    },
    {
      "cell_type": "markdown",
      "metadata": {
        "id": "4Ut2BRnOGWiE"
      },
      "source": [
        "## GNN的结构"
      ]
    },
    {
      "cell_type": "markdown",
      "metadata": {
        "id": "vc4YPoc61oxF"
      },
      "source": [
        "- GNN的网络层\n",
        "   - GCN\n",
        "   - graphSAGE\n",
        "- GNN网络层之间的连接\n",
        "- augmentation\n",
        "   - graph feature augmentation\n",
        "   - graph structure augementaiton\n",
        "- Learning objective\n",
        "   - Supervised or Unsupervised\n",
        "   - Node/Edge/Graph level objectives"
      ]
    },
    {
      "cell_type": "markdown",
      "metadata": {
        "id": "4YSlxyDvsJlk"
      },
      "source": [
        "### 图卷积是什么？和卷积有什么关系？"
      ]
    },
    {
      "cell_type": "markdown",
      "metadata": {
        "id": "09thA1L1sRaa"
      },
      "source": [
        "graph：\n",
        "1. no fixed notion of locality or sliding window on the graph\n",
        "2. permutation invariant\n",
        "\n",
        "<table>\n",
        "<th>CNN on an image<th>graph\n",
        "<tr><td><img src=\"https://img-blog.csdnimg.cn/20210618092043741.png\" width=400px><td><img src=\"https://img-blog.csdnimg.cn/20210618091831862.png\" width=400px>"
      ]
    },
    {
      "cell_type": "markdown",
      "metadata": {
        "id": "lqR3LWVGuCWB"
      },
      "source": [
        "#### GNN中的卷积\n",
        "1. 局部连接\n",
        "2. 计算图\n",
        "3. arbitrary depth\n",
        "4. neighborhood aggregation"
      ]
    },
    {
      "cell_type": "markdown",
      "metadata": {
        "id": "oZdqzwC7ts2R"
      },
      "source": [
        "<img src=\"https://img-blog.csdnimg.cn/20210618092153719.png\">"
      ]
    },
    {
      "cell_type": "markdown",
      "metadata": {
        "id": "ahOPrRiqCVBY"
      },
      "source": [
        "### GNN的网络层"
      ]
    },
    {
      "cell_type": "markdown",
      "metadata": {
        "id": "qpfoGOhkAtIc"
      },
      "source": [
        "Dropout、BathNorm、Activation等操作在GNN中同样适用\n",
        "<strong>Message + Aggregation</strong>\n",
        "<table>\n",
        "<th>网络结构<th>计算图<th>Message<th>Aggregation\n",
        "<tr><td><img src=\"https://img-blog.csdnimg.cn/20210618032449873.png\"><td><img src=\"https://img-blog.csdnimg.cn/20210618013011192.png\"><td>邻近节点+自身节点输入当前层的嵌入<td>神经网络\n",
        "</table>\n",
        "\n",
        "GNN网络层包括两部分：Message和Aggregation\n"
      ]
    },
    {
      "cell_type": "markdown",
      "metadata": {
        "id": "rA1gZHMIGkH3"
      },
      "source": [
        "#### Message"
      ]
    },
    {
      "cell_type": "markdown",
      "metadata": {
        "id": "ND8tHNgbGmjT"
      },
      "source": [
        "<b>每个node都会创建一个Message，这个message会传到网络的下一层，该message也是当前node在经过上一层后的嵌入</b>\n",
        "\n",
        "Message方程：\n",
        "$$\\mathbf{m}_u^{(l)}=MSG^{(l)}(\\mathbf{h}_u^{(l-1)})$$\n",
        "较为直接的Message方程为线性映射：\n",
        "$$\\mathbf{m}_u^{(l)}=\\mathbf{W}^{(l)}\\mathbf{h}_u^{(l-1)}$$\n",
        "这里$\\mathbf{W}^{(l)}$的作用即为将上一层的嵌入映射到当前层空间中，更显式地说$\\mathbf{W}^{(l)}\\in\\mathbb{R}^{d^l*d^{l-1}}$，即l-1层的嵌入/输出在$d^{l-1}$维空间中，通过$\\mathbf{W}^{(l)}$将其映射到$d^{l}$维空间中。"
      ]
    },
    {
      "cell_type": "markdown",
      "metadata": {
        "id": "YhxsvgUIGmyn"
      },
      "source": [
        "#### Aggregation"
      ]
    },
    {
      "cell_type": "markdown",
      "metadata": {
        "id": "atOuJP5wIGxr"
      },
      "source": [
        "**每个node都会整合**\n",
        "1. 从其近邻传递来的消息\n",
        "   $$\\mathbf{h}_v^{(l)}=AGG^{(l)}(\\{\\mathbf{m}_u^{(l)},u\\in N(v)\\})$$\n",
        "较为直接的aggregation包括求和、求均值、求极大值。例如<b>GCN使用求均值，graphSAGE使用求极大值</b>\n",
        "2. 自身的信息\n",
        "   $$\\mathbf{m}_v^{(l)}=\\mathbf{B}^{(l)}\\mathbf{h}_v^{(l-1)}$$\n",
        "\n",
        "Aggregation方程\n",
        "$$\\mathbf{h}_v^{(l)}=\\text{AGG}(\\{\\mathbf{m}_u^{(l)},u\\in N(v)\\},\\mathbf{m}_v^{(l)})$$"
      ]
    },
    {
      "cell_type": "markdown",
      "metadata": {
        "id": "PyyutGK9RVcp"
      },
      "source": [
        "#### Nonlinearity"
      ]
    },
    {
      "cell_type": "markdown",
      "metadata": {
        "id": "r9DvzwgyRYgb"
      },
      "source": [
        "加入非线性层作为激活层来增加网络的表达能力，与普通卷积神经网络相同，这些非线性层包括ReLU层、Sigmoid层"
      ]
    },
    {
      "cell_type": "markdown",
      "metadata": {
        "id": "GgF5lVPYcx_R"
      },
      "source": [
        "#### 经典网络层结构"
      ]
    },
    {
      "cell_type": "markdown",
      "metadata": {
        "id": "t55y9tdsShF-"
      },
      "source": [
        "\n",
        "1. GCN\n",
        "   $$h_v^{(l)}=\\sigma(W^{(l)}\\sum_{u\\in N(v)}\\frac{h_u^{(l-1)}}{|N(v)|}+B_lh_v^{(l-1)}),\\forall l\\in\\{0,\\dots,L-1\\}$$\n",
        "   <img src=\"https://img-blog.csdnimg.cn/20210618024958735.png\" width=50%><br>\n",
        "   - message为线性变换<br>\n",
        "   - aggregation为求和\n",
        "2. graphSAGE\n",
        "   $$h_v^{(l)}=\\sigma(W^{(l)}.\\text{CONCAT}(\\mathbf{h}_v^{(l-1)},\\text{AGG}(\\{\\mathbf{h}_u^{l-1},\\forall u\\in N(v)\\})$$\n",
        "   - message通过AGG(.)完成，可以有不同形式<br>\n",
        "   <img src=\"https://img-blog.csdnimg.cn/2021061803105624.png\" width=50%>\n",
        "   - aggregation分为两步，第一步为$$\\mathbf{h}_{N(v)}^{(l)}\\leftarrow\\text{AGG}(\\{\\mathbf{h}_u^{l-1},\\forall u\\in N(v)\\})$$第二步为$$h_v^{(l)}\\leftarrow\\sigma(W^{(l)}.\\text{CONCAT}(\\mathbf{h}_v^{(l-1)},\\mathbf{h}_{N(v)}^{(l)}))$$\n",
        "   - $\\mathcal{l}_2$正则化：与GCN相比，graphSAGE的一个重要改变就是添加了正则化。<img src=\"https://img-blog.csdnimg.cn/20210618031321862.png\" width=50%>\n",
        "3. GAT (Graph Attention Networks)\n",
        "   $$\\mathbf{h}_v^{(l)}=\\sigma(\\sum_{u\\in N(v)}\\alpha_{vu}\\mathbf{W}^{(l)}\\mathbf{h}_u^{(l-1)})$$\n"
      ]
    },
    {
      "cell_type": "markdown",
      "metadata": {
        "id": "cTPUSIsuCV52"
      },
      "source": [
        "### GNN网络层之间的连接"
      ]
    },
    {
      "cell_type": "markdown",
      "metadata": {
        "id": "AZdO7TQBCksb"
      },
      "source": [
        "Skip connection\n"
      ]
    },
    {
      "cell_type": "markdown",
      "metadata": {
        "id": "YV2WT4-ZDWzy"
      },
      "source": [
        "### Augmentation\n",
        "计算图不完全使用原始图结构"
      ]
    },
    {
      "cell_type": "markdown",
      "metadata": {
        "id": "Mj3-UbatDg7J"
      },
      "source": [
        "为什么需要进行augmentation？为什么不直接使用原始的图结构？\n",
        "\n",
        "Over-smoothing问题——在连接较为密集的图中，若干曾的网络会使得不同node从相同的节点接收信息，导致不同node的embedding相同。\n",
        "\n",
        "<img src=\"https://img-blog.csdnimg.cn/20210618033527591.png\" width=50%>"
      ]
    },
    {
      "cell_type": "markdown",
      "metadata": {
        "id": "I9fioIneea00"
      },
      "source": [
        "解决over-smoothing\n",
        "1. 根据具体问题添加网络层——与CNN不同，更多网络层并不一定带来更好的表达能力。此时可以考虑使用浅层网络。并通过下面方法增强表达能力：\n",
        "   - 在浅层网络中添加其他网络层如MLP来增强表达能力。\n",
        "   - 添加不进行消息传递的网络层——GNN模型中具体的GNN层前后添加网络层，如添加MLP\n",
        "2. 添加skip connections——类似resnet，相当于多个网络模型的集成，从而提高表达能力\n",
        "3. **Graph Manipultion**\n",
        "   - Graph feature augmentation\n",
        "   - Graph structure manipulation\n",
        "   \n",
        "   <img src=\"https://img-blog.csdnimg.cn/20210618035417687.png\" width=50%>"
      ]
    },
    {
      "cell_type": "markdown",
      "metadata": {
        "id": "X6KGcU0g1rnI"
      },
      "source": [
        "## GNN的训练"
      ]
    },
    {
      "cell_type": "markdown",
      "metadata": {
        "id": "2V5gHhTpJlwh"
      },
      "source": [
        "<img src=\"https://img-blog.csdnimg.cn/20210617212545868.png\" width=50%>\n",
        "\n",
        "重要的一点在于训练集/验证集/测试集的划分。"
      ]
    },
    {
      "cell_type": "markdown",
      "metadata": {
        "id": "VyFWPhGUtmGt"
      },
      "source": [
        "### 训练集/验证集/测试集的划分\n",
        "1. Transductive\n",
        "2. Inductive"
      ]
    },
    {
      "cell_type": "markdown",
      "metadata": {
        "id": "Sfj0Lk8hvC4o"
      },
      "source": [
        "#### Node-level"
      ]
    },
    {
      "cell_type": "markdown",
      "metadata": {
        "id": "vSKtWrfMtzo1"
      },
      "source": [
        "<table>\n",
        "<th colspan=\"2\">Node-level\n",
        "<tr><td>Transductive<td>Inductive\n",
        "<tr><td><img src=\"https://img-blog.csdnimg.cn/20210618044358716.png\" ><td><img src=\"https://img-blog.csdnimg.cn/20210618044649678.png\">\n",
        "<tr><td colspan=\"2\"><img src=\"https://img-blog.csdnimg.cn/20210618044536175.png\" width=50%>\n",
        "</table>"
      ]
    },
    {
      "cell_type": "markdown",
      "metadata": {
        "id": "bFekpTOVvJ0C"
      },
      "source": [
        "#### Link Prediction\n"
      ]
    },
    {
      "cell_type": "markdown",
      "metadata": {
        "id": "PoKItdNvvjRH"
      },
      "source": [
        "<table>\n",
        "<th colspan=\"2\">Edge-level\n",
        "<tr><td colspan=\"2\">首先将edge划分为Message edges和Supervision edges，然后根据两种策略划分\n",
        "<tr><td><img src=\"https://img-blog.csdnimg.cn/20210618045328634.png\"><td><img src=\"https://img-blog.csdnimg.cn/20210618045402653.png\">\n",
        "</table>"
      ]
    },
    {
      "cell_type": "markdown",
      "metadata": {
        "id": "WxCuJiEAwSfj"
      },
      "source": [
        "#### Graph Classification"
      ]
    },
    {
      "cell_type": "markdown",
      "metadata": {
        "id": "BPh8A5XfwWSp"
      },
      "source": [
        "天然适合inductive setting"
      ]
    },
    {
      "cell_type": "markdown",
      "metadata": {
        "id": "tbHNMMUlworz"
      },
      "source": [
        "## GNN的表达能力"
      ]
    },
    {
      "cell_type": "markdown",
      "metadata": {
        "id": "wF2PqcEEw2a3"
      },
      "source": [
        "<table><tr><td>\n",
        "<img src=\"https://img-blog.csdnimg.cn/2021061804565863.png\"><td>\n",
        "<img src=\"https://img-blog.csdnimg.cn/20210618045824601.png\">"
      ]
    },
    {
      "cell_type": "markdown",
      "metadata": {
        "id": "yYHc-mu_xSNx"
      },
      "source": [
        "### GCN"
      ]
    },
    {
      "cell_type": "markdown",
      "metadata": {
        "id": "DdGmNmYmxXqh"
      },
      "source": [
        "<table>\n",
        "<th>方法<th>缺点\n",
        "<tr><td><img src=\"https://img-blog.csdnimg.cn/20210618045928907.png\"><td><img src=\"https://img-blog.csdnimg.cn/20210618050134895.png\">"
      ]
    },
    {
      "cell_type": "markdown",
      "metadata": {
        "id": "XUY1DgmRxhVy"
      },
      "source": [
        "### GraphSAGE"
      ]
    },
    {
      "cell_type": "markdown",
      "metadata": {
        "id": "tJPGKRI_xj2O"
      },
      "source": [
        "<table>\n",
        "<th>方法<th>缺点\n",
        "<tr><td><img src=\"https://img-blog.csdnimg.cn/20210618045956427.png\"><td><img src=\"https://img-blog.csdnimg.cn/20210618050249334.png\">"
      ]
    },
    {
      "cell_type": "markdown",
      "metadata": {
        "id": "CLP3U0MyyUZU"
      },
      "source": [
        "### GIN"
      ]
    },
    {
      "cell_type": "markdown",
      "metadata": {
        "id": "cC8i9je7yXVG"
      },
      "source": [
        "<img src=\"https://img-blog.csdnimg.cn/20210618050351459.png\" width=50%>\n",
        "\n",
        "与WL Kernel的联系\n",
        "\n",
        "<img src=\"https://img-blog.csdnimg.cn/20210618050543777.png\" width=50%>"
      ]
    },
    {
      "cell_type": "markdown",
      "metadata": {
        "id": "Lbyh3WsS1ayk"
      },
      "source": [
        "## Heterogeneous Graphs\n"
      ]
    },
    {
      "cell_type": "markdown",
      "metadata": {
        "id": "GIG4q6ROjNcj"
      },
      "source": [
        "Heterogeneous Graphs是指图中具有不止一种node/edeg。Heterogeneous graph定义为$G=(V,E,R,T)$。知识图谱等许多类型的图都属于Heterogeneous graph\n",
        "1. Relational GCNs\n",
        "2. Knowledge Graphs"
      ]
    },
    {
      "cell_type": "markdown",
      "metadata": {
        "id": "y2C1WkqM2NCu"
      },
      "source": [
        "### Relational GCNs"
      ]
    },
    {
      "cell_type": "markdown",
      "metadata": {
        "id": "ZzUc7DGtkVcq"
      },
      "source": [
        "在节点具有不同类型关系时如何训练？\n",
        "<table>\n",
        "<th colspan=\"2\">different weight\n",
        "<tr><td><img src=\"https://img-blog.csdnimg.cn/20210618040216996.png\"><td><img src=\"https://img-blog.csdnimg.cn/20210618040424647.png\">\n",
        "<tr><td colspan=\"2\">当嵌入维度较高以及边的关系较多时，参数数量迅速增长。解决方法如下\n",
        "<tr><td>方法一<td>方法二\n",
        "<tr><td><img src=\"https://img-blog.csdnimg.cn/20210618040847353.png\"><td><img src=\"https://img-blog.csdnimg.cn/20210618040918629.png\">\n",
        "</table>\n",
        "\n",
        "\n"
      ]
    },
    {
      "cell_type": "markdown",
      "metadata": {
        "id": "b8pOfG7HnwhF"
      },
      "source": [
        "\n",
        "<table>\n",
        "<th colspan=\"2\">Link Prediction\n",
        "<tr><td colspan=\"2\">需要注意的点：对不同类型的edge划分training/validation/test set，这是因为不同类型的edge不均衡。\n",
        "<tr><td><img src=\"https://img-blog.csdnimg.cn/2021061804145786.png\"><td><img src=\"https://img-blog.csdnimg.cn/20210618041630438.png\">"
      ]
    },
    {
      "cell_type": "markdown",
      "metadata": {
        "id": "VQQRtIkIn9jL"
      },
      "source": [
        "### KG"
      ]
    },
    {
      "cell_type": "markdown",
      "metadata": {
        "id": "SCyiHPVRoBNp"
      },
      "source": [
        "<table>\n",
        "<th>KG<th>Examples<th>bio knowledge graph\n",
        "<tr><td rowspan=\"8\"><img src=\"https://img-blog.csdnimg.cn/20210618041856357.png\"><td>Google Knowledge Graph<td rowspan=\"8\"><img src=\"https://img-blog.csdnimg.cn/20210618042015559.png\">\n",
        "<tr><td>Amazon Product Graph\n",
        "<tr><td>Facebook Graph API\n",
        "<tr><td>IBM Watson\n",
        "<tr><td>Microsoft Satori\n",
        "<tr><td>Project Hanover/Literome\n",
        "<tr><td>LinkedIn Knowledge Graph\n",
        "<tr><td>Yandex Object Answer"
      ]
    },
    {
      "cell_type": "markdown",
      "metadata": {
        "id": "R512J8vuplPg"
      },
      "source": [
        "#### 公开数据集\n",
        "Publicly available KGs:\n",
        "1. FreeBase\n",
        "2. Wikidata\n",
        "3. Dbpedia\n",
        "4. YAGO\n",
        "5. NELL\n",
        "6. many others\n",
        "\n",
        "#### 特征\n",
        "1. Massive：大量的不同类型的nodes和edges\n",
        "2. Incomplete：许多真实的edge都被忽略\n",
        "\n",
        "\n"
      ]
    },
    {
      "cell_type": "markdown",
      "metadata": {
        "id": "aMuS9Xyfqk5c"
      },
      "source": [
        "### Knowledge Graphs Completion with **Embeddings**"
      ]
    },
    {
      "cell_type": "markdown",
      "metadata": {
        "id": "eCsGWzBqqnBX"
      },
      "source": [
        "<table>\n",
        "<th colspan=\"2\">KG completion\n",
        "<tr><td>任务<td>例子\n",
        "<tr><td>给出head,relation，预测tail<br>\n",
        "<td><img src=\"https://img-blog.csdnimg.cn/20210618043022371.png\">"
      ]
    },
    {
      "cell_type": "markdown",
      "metadata": {
        "id": "DDhFYNV-razA"
      },
      "source": [
        "#### 如何完成？"
      ]
    },
    {
      "cell_type": "markdown",
      "metadata": {
        "id": "xq11CicUrdmW"
      },
      "source": [
        "1. 将实体和关系都进行嵌入\n",
        "2. 划分训练/验证/测试集\n",
        "3. 训练时对于真实的(h,r,t)三元组，目标是(h,r)的嵌入需要和t的嵌入相近，这带来两个问题\n",
        "   - 如何嵌入(h,r)？\n",
        "   - 如何定义相近嵌入？"
      ]
    },
    {
      "cell_type": "markdown",
      "metadata": {
        "id": "H0qK-TitInUf"
      },
      "source": [
        "#### 策略一：TransE"
      ]
    },
    {
      "cell_type": "markdown",
      "metadata": {
        "id": "2t9y5xNFsHms"
      },
      "source": [
        "\n",
        "<table>\n",
        "<th>(h,r)的嵌入以及相近嵌入定义<th>训练过程\n",
        "<tr><td>\n",
        "<img src=\"https://img-blog.csdnimg.cn/20210618043708180.png\" width=90%><td><img src=\"https://img-blog.csdnimg.cn/20210618043743664.png\">"
      ]
    },
    {
      "cell_type": "markdown",
      "metadata": {
        "id": "4CrH5WuDIoE9"
      },
      "source": [
        "例子: <a href=\"https://github.com/gnn4dr/DRKG\">DRKG</a>"
      ]
    },
    {
      "cell_type": "markdown",
      "metadata": {
        "id": "uGlFDlMhs0bW"
      },
      "source": [
        "#### 策略二：TransR"
      ]
    },
    {
      "cell_type": "markdown",
      "metadata": {
        "id": "stASR_vas6SC"
      },
      "source": [
        "#### 策略三：DistMult"
      ]
    },
    {
      "cell_type": "markdown",
      "metadata": {
        "id": "qz6_kjS6s_yO"
      },
      "source": [
        "#### 策略四：ComplEx"
      ]
    },
    {
      "cell_type": "markdown",
      "metadata": {
        "id": "ojDIH_oWtKIe"
      },
      "source": [
        "#### 策略对比\n",
        "<img src=\"https://img-blog.csdnimg.cn/20210618044040532.png\">"
      ]
    }
  ]
}